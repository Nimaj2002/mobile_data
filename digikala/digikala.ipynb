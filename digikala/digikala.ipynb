{
 "cells": [
  {
   "cell_type": "markdown",
   "metadata": {},
   "source": [
    "# Digikala data for Apple, Samsung, Xiaomi"
   ]
  },
  {
   "cell_type": "code",
   "execution_count": null,
   "metadata": {},
   "outputs": [],
   "source": [
    "! pip install selenium\n",
    "! pip install pandas==1.5.3\n",
    "! pip install unidecode"
   ]
  },
  {
   "cell_type": "code",
   "execution_count": 11,
   "metadata": {},
   "outputs": [],
   "source": [
    "import pandas as pd\n",
    "from selenium import webdriver\n",
    "from selenium.webdriver.support.ui import WebDriverWait\n",
    "from selenium.webdriver.common.by import By\n",
    "from selenium.webdriver.common.keys import Keys\n",
    "from selenium.common.exceptions import NoSuchElementException, ElementNotInteractableException, ElementClickInterceptedException\n",
    "from selenium.webdriver.support import expected_conditions as EC"
   ]
  },
  {
   "cell_type": "code",
   "execution_count": 2,
   "metadata": {},
   "outputs": [],
   "source": [
    "from unidecode import unidecode\n",
    "import time"
   ]
  },
  {
   "cell_type": "markdown",
   "metadata": {},
   "source": [
    "### opening digikala"
   ]
  },
  {
   "cell_type": "code",
   "execution_count": 3,
   "metadata": {},
   "outputs": [],
   "source": [
    "driver = webdriver.Chrome()"
   ]
  },
  {
   "cell_type": "code",
   "execution_count": 4,
   "metadata": {},
   "outputs": [],
   "source": [
    "url = \"https://www.digikala.com/search/category-mobile-phone/\"\n",
    "apple_url = url + \"apple/\"\n",
    "xiaomi_url = url + \"xiaomi/\"\n",
    "samsung_url = url + \"samsung/\""
   ]
  },
  {
   "cell_type": "code",
   "execution_count": 5,
   "metadata": {},
   "outputs": [],
   "source": [
    "driver.maximize_window()\n",
    "driver.get(apple_url)"
   ]
  },
  {
   "cell_type": "code",
   "execution_count": 6,
   "metadata": {},
   "outputs": [],
   "source": [
    "# choose most selled\n",
    "driver.find_element(By.XPATH, \"\"\"/html/body/div[1]/div[1]/div[3]/div[3]/div[3]/section[1]/div[1]/div/div/div/div[2]/span[3]\"\"\").click()"
   ]
  },
  {
   "cell_type": "markdown",
   "metadata": {},
   "source": [
    "getting links of top 200 latest cards in digikala"
   ]
  },
  {
   "cell_type": "code",
   "execution_count": 7,
   "metadata": {},
   "outputs": [],
   "source": [
    "apple_links = []\n",
    "# link_count = how many data you want\n",
    "link_count = 200\n",
    "y = 500\n",
    "\n",
    "for _ in range(link_count // 4):\n",
    "    cards = driver.find_elements(By.XPATH, f\"/html/body/div[1]/div[1]/div[3]/div[3]/div[3]/section[1]/div[2]/div/a\")\n",
    "    for card in cards:\n",
    "        if (link := card.get_attribute(\"href\")) not in apple_links:\n",
    "            apple_links.append(link)\n",
    "\n",
    "    driver.execute_script(f\"window.scrollTo(0,{y})\")\n",
    "    y += 500\n",
    "    time.sleep(1)\n"
   ]
  },
  {
   "cell_type": "code",
   "execution_count": 8,
   "metadata": {},
   "outputs": [
    {
     "data": {
      "text/plain": [
       "186"
      ]
     },
     "execution_count": 8,
     "metadata": {},
     "output_type": "execute_result"
    }
   ],
   "source": [
    "len(apple_links)"
   ]
  },
  {
   "cell_type": "markdown",
   "metadata": {},
   "source": [
    "getting data from each link"
   ]
  },
  {
   "cell_type": "code",
   "execution_count": 9,
   "metadata": {},
   "outputs": [
    {
     "data": {
      "text/html": [
       "<div>\n",
       "<style scoped>\n",
       "    .dataframe tbody tr th:only-of-type {\n",
       "        vertical-align: middle;\n",
       "    }\n",
       "\n",
       "    .dataframe tbody tr th {\n",
       "        vertical-align: top;\n",
       "    }\n",
       "\n",
       "    .dataframe thead th {\n",
       "        text-align: right;\n",
       "    }\n",
       "</style>\n",
       "<table border=\"1\" class=\"dataframe\">\n",
       "  <thead>\n",
       "    <tr style=\"text-align: right;\">\n",
       "      <th></th>\n",
       "      <th>brand_name</th>\n",
       "      <th>model</th>\n",
       "      <th>off_price</th>\n",
       "      <th>price</th>\n",
       "      <th>storage</th>\n",
       "      <th>ram</th>\n",
       "      <th>link</th>\n",
       "    </tr>\n",
       "  </thead>\n",
       "  <tbody>\n",
       "  </tbody>\n",
       "</table>\n",
       "</div>"
      ],
      "text/plain": [
       "Empty DataFrame\n",
       "Columns: [brand_name, model, off_price, price, storage, ram, link]\n",
       "Index: []"
      ]
     },
     "execution_count": 9,
     "metadata": {},
     "output_type": "execute_result"
    }
   ],
   "source": [
    "apple_df = pd.DataFrame(columns=[\"brand_name\", 'model', 'off_price',\"price\", \"storage\", \"ram\", \"link\"])\n",
    "apple_df"
   ]
  },
  {
   "cell_type": "code",
   "execution_count": 36,
   "metadata": {},
   "outputs": [
    {
     "ename": "ElementClickInterceptedException",
     "evalue": "Message: element click intercepted: Element is not clickable at point (1459, 2966)\n  (Session info: chrome=115.0.5790.173)\nStacktrace:\nBacktrace:\n\tGetHandleVerifier [0x00007FF641B84A62+57106]\n\t(No symbol) [0x00007FF641AFCF52]\n\t(No symbol) [0x00007FF6419CE2CB]\n\t(No symbol) [0x00007FF641A0D290]\n\t(No symbol) [0x00007FF641A0B90D]\n\t(No symbol) [0x00007FF641A098F5]\n\t(No symbol) [0x00007FF641A08B05]\n\t(No symbol) [0x00007FF6419FEE2F]\n\t(No symbol) [0x00007FF641A269BA]\n\t(No symbol) [0x00007FF6419FE746]\n\t(No symbol) [0x00007FF641A26BD0]\n\t(No symbol) [0x00007FF641A3E522]\n\t(No symbol) [0x00007FF641A26793]\n\t(No symbol) [0x00007FF6419FCE81]\n\t(No symbol) [0x00007FF6419FE064]\n\tGetHandleVerifier [0x00007FF641E34222+2873042]\n\tGetHandleVerifier [0x00007FF641E86590+3209792]\n\tGetHandleVerifier [0x00007FF641E7F3AF+3180639]\n\tGetHandleVerifier [0x00007FF641C15F25+652245]\n\t(No symbol) [0x00007FF641B08618]\n\t(No symbol) [0x00007FF641B047C4]\n\t(No symbol) [0x00007FF641B048BC]\n\t(No symbol) [0x00007FF641AF4C33]\n\tBaseThreadInitThunk [0x00007FFFE47F26AD+29]\n\tRtlUserThreadStart [0x00007FFFE5BEAA68+40]\n",
     "output_type": "error",
     "traceback": [
      "\u001b[1;31m---------------------------------------------------------------------------\u001b[0m",
      "\u001b[1;31mElementClickInterceptedException\u001b[0m          Traceback (most recent call last)",
      "Cell \u001b[1;32mIn[36], line 47\u001b[0m\n\u001b[0;32m     45\u001b[0m driver\u001b[39m.\u001b[39mexecute_script(\u001b[39m\"\u001b[39m\u001b[39marguments[0].scrollIntoView();\u001b[39m\u001b[39m\"\u001b[39m, more)\n\u001b[0;32m     46\u001b[0m driver\u001b[39m.\u001b[39mexecute_script(\u001b[39m\"\u001b[39m\u001b[39marguments[0].style.border=\u001b[39m\u001b[39m'\u001b[39m\u001b[39m3px solid red\u001b[39m\u001b[39m'\u001b[39m\u001b[39m;\u001b[39m\u001b[39m\"\u001b[39m, more)\n\u001b[1;32m---> 47\u001b[0m more\u001b[39m.\u001b[39;49mclick()\n\u001b[0;32m     48\u001b[0m \u001b[39m# except ElementNotInteractableException:\u001b[39;00m\n\u001b[0;32m     49\u001b[0m \u001b[39m#     pass\u001b[39;00m\n\u001b[0;32m     50\u001b[0m \u001b[39m# except ElementClickInterceptedException:\u001b[39;00m\n\u001b[0;32m     51\u001b[0m \u001b[39m#     pass\u001b[39;00m\n",
      "File \u001b[1;32mf:\\python\\My-little-big-python-projects\\web_scraping\\mobile_data\\.vevn\\Lib\\site-packages\\selenium\\webdriver\\remote\\webelement.py:94\u001b[0m, in \u001b[0;36mWebElement.click\u001b[1;34m(self)\u001b[0m\n\u001b[0;32m     92\u001b[0m \u001b[39mdef\u001b[39;00m \u001b[39mclick\u001b[39m(\u001b[39mself\u001b[39m) \u001b[39m-\u001b[39m\u001b[39m>\u001b[39m \u001b[39mNone\u001b[39;00m:\n\u001b[0;32m     93\u001b[0m \u001b[39m    \u001b[39m\u001b[39m\"\"\"Clicks the element.\"\"\"\u001b[39;00m\n\u001b[1;32m---> 94\u001b[0m     \u001b[39mself\u001b[39;49m\u001b[39m.\u001b[39;49m_execute(Command\u001b[39m.\u001b[39;49mCLICK_ELEMENT)\n",
      "File \u001b[1;32mf:\\python\\My-little-big-python-projects\\web_scraping\\mobile_data\\.vevn\\Lib\\site-packages\\selenium\\webdriver\\remote\\webelement.py:395\u001b[0m, in \u001b[0;36mWebElement._execute\u001b[1;34m(self, command, params)\u001b[0m\n\u001b[0;32m    393\u001b[0m     params \u001b[39m=\u001b[39m {}\n\u001b[0;32m    394\u001b[0m params[\u001b[39m\"\u001b[39m\u001b[39mid\u001b[39m\u001b[39m\"\u001b[39m] \u001b[39m=\u001b[39m \u001b[39mself\u001b[39m\u001b[39m.\u001b[39m_id\n\u001b[1;32m--> 395\u001b[0m \u001b[39mreturn\u001b[39;00m \u001b[39mself\u001b[39;49m\u001b[39m.\u001b[39;49m_parent\u001b[39m.\u001b[39;49mexecute(command, params)\n",
      "File \u001b[1;32mf:\\python\\My-little-big-python-projects\\web_scraping\\mobile_data\\.vevn\\Lib\\site-packages\\selenium\\webdriver\\remote\\webdriver.py:345\u001b[0m, in \u001b[0;36mWebDriver.execute\u001b[1;34m(self, driver_command, params)\u001b[0m\n\u001b[0;32m    343\u001b[0m response \u001b[39m=\u001b[39m \u001b[39mself\u001b[39m\u001b[39m.\u001b[39mcommand_executor\u001b[39m.\u001b[39mexecute(driver_command, params)\n\u001b[0;32m    344\u001b[0m \u001b[39mif\u001b[39;00m response:\n\u001b[1;32m--> 345\u001b[0m     \u001b[39mself\u001b[39;49m\u001b[39m.\u001b[39;49merror_handler\u001b[39m.\u001b[39;49mcheck_response(response)\n\u001b[0;32m    346\u001b[0m     response[\u001b[39m\"\u001b[39m\u001b[39mvalue\u001b[39m\u001b[39m\"\u001b[39m] \u001b[39m=\u001b[39m \u001b[39mself\u001b[39m\u001b[39m.\u001b[39m_unwrap_value(response\u001b[39m.\u001b[39mget(\u001b[39m\"\u001b[39m\u001b[39mvalue\u001b[39m\u001b[39m\"\u001b[39m, \u001b[39mNone\u001b[39;00m))\n\u001b[0;32m    347\u001b[0m     \u001b[39mreturn\u001b[39;00m response\n",
      "File \u001b[1;32mf:\\python\\My-little-big-python-projects\\web_scraping\\mobile_data\\.vevn\\Lib\\site-packages\\selenium\\webdriver\\remote\\errorhandler.py:229\u001b[0m, in \u001b[0;36mErrorHandler.check_response\u001b[1;34m(self, response)\u001b[0m\n\u001b[0;32m    227\u001b[0m         alert_text \u001b[39m=\u001b[39m value[\u001b[39m\"\u001b[39m\u001b[39malert\u001b[39m\u001b[39m\"\u001b[39m]\u001b[39m.\u001b[39mget(\u001b[39m\"\u001b[39m\u001b[39mtext\u001b[39m\u001b[39m\"\u001b[39m)\n\u001b[0;32m    228\u001b[0m     \u001b[39mraise\u001b[39;00m exception_class(message, screen, stacktrace, alert_text)  \u001b[39m# type: ignore[call-arg]  # mypy is not smart enough here\u001b[39;00m\n\u001b[1;32m--> 229\u001b[0m \u001b[39mraise\u001b[39;00m exception_class(message, screen, stacktrace)\n",
      "\u001b[1;31mElementClickInterceptedException\u001b[0m: Message: element click intercepted: Element is not clickable at point (1459, 2966)\n  (Session info: chrome=115.0.5790.173)\nStacktrace:\nBacktrace:\n\tGetHandleVerifier [0x00007FF641B84A62+57106]\n\t(No symbol) [0x00007FF641AFCF52]\n\t(No symbol) [0x00007FF6419CE2CB]\n\t(No symbol) [0x00007FF641A0D290]\n\t(No symbol) [0x00007FF641A0B90D]\n\t(No symbol) [0x00007FF641A098F5]\n\t(No symbol) [0x00007FF641A08B05]\n\t(No symbol) [0x00007FF6419FEE2F]\n\t(No symbol) [0x00007FF641A269BA]\n\t(No symbol) [0x00007FF6419FE746]\n\t(No symbol) [0x00007FF641A26BD0]\n\t(No symbol) [0x00007FF641A3E522]\n\t(No symbol) [0x00007FF641A26793]\n\t(No symbol) [0x00007FF6419FCE81]\n\t(No symbol) [0x00007FF6419FE064]\n\tGetHandleVerifier [0x00007FF641E34222+2873042]\n\tGetHandleVerifier [0x00007FF641E86590+3209792]\n\tGetHandleVerifier [0x00007FF641E7F3AF+3180639]\n\tGetHandleVerifier [0x00007FF641C15F25+652245]\n\t(No symbol) [0x00007FF641B08618]\n\t(No symbol) [0x00007FF641B047C4]\n\t(No symbol) [0x00007FF641B048BC]\n\t(No symbol) [0x00007FF641AF4C33]\n\tBaseThreadInitThunk [0x00007FFFE47F26AD+29]\n\tRtlUserThreadStart [0x00007FFFE5BEAA68+40]\n"
     ]
    }
   ],
   "source": [
    "# for link in apple_links:\n",
    "#     driver.get(link)\n",
    "#     time.sleep(1)\n",
    "driver.get(apple_links[-1])\n",
    "time.sleep(2)\n",
    "\n",
    "wait = WebDriverWait(driver, 10)\n",
    "# getting the title\n",
    "title = wait.until(EC.visibility_of_element_located((By.CSS_SELECTOR, \"\"\"h1.text-h4\"\"\"))).text\n",
    "\n",
    "# color\n",
    "try:\n",
    "    # selecting first color\n",
    "    driver.find_element(By.CSS_SELECTOR, \"\"\"div.styles_InfoSectionVariationColor__pX_3M:nth-child(1)\"\"\").click()\n",
    "except:\n",
    "    pass\n",
    "\n",
    "# price\n",
    "try:\n",
    "    # without off\n",
    "    price = driver.find_element(By.XPATH, \"\"\"/html/body/div[1]/div[1]/div[3]/div[3]/div[2]/div[2]/div[2]/div[2]/div[4]/div[1]/div[8]/div/div/div[2]/div/div[1]/span\"\"\").text\n",
    "    price = unidecode(price.replace(\",\", \"\"))\n",
    "    off_price = \"NAN\"\n",
    "except NoSuchElementException:\n",
    "    try:\n",
    "        # Na mojud\n",
    "        driver.find_element(By.XPATH, \"\"\"/html/body/div[1]/div[1]/div[3]/div[3]/div[2]/div[2]/div[2]/div[2]/div[3]/div/div/div[1]/p\"\"\")\n",
    "        price = \"NAN\"\n",
    "        off_price = \"NAN\"\n",
    "    except NoSuchElementException:\n",
    "        # with off\n",
    "        price = driver.find_element(By.XPATH, \"\"\"/html/body/div[1]/div[1]/div[3]/div[3]/div[2]/div[2]/div[2]/div[2]/div[4]/div[1]/div[8]/div/div/div[1]/div[2]/div[1]/span\"\"\").text\n",
    "        price = unidecode(price.replace(\",\", \"\"))\n",
    "        off_price = driver.find_element(By.XPATH, \"\"\"/html/body/div[1]/div[1]/div[3]/div[3]/div[2]/div[2]/div[2]/div[2]/div[4]/div[1]/div[8]/div/div/div[1]/div[2]/div[2]/span\"\"\").text\n",
    "        off_price = unidecode(off_price.replace(\",\", \"\"))\n",
    "\n",
    "driver.execute_script(\"window.scrollTo(0,document.body.scrollHeight)\")\n",
    "time.sleep(2)\n",
    "driver.execute_script(\"window.scrollTo(0,document.body.scrollHeight)\")\n",
    "driver.execute_script(\"window.scrollTo(0,0)\")\n",
    "time.sleep(2)\n",
    "# try:\n",
    "# driver.find_element(By.CSS_SELECTOR, \"\"\"ul.d-flex > div:nth-child(3)\"\"\")\n",
    "more = driver.find_element(By.XPATH, \"\"\"//*[@id=\"__next\"]/div[1]/div[3]/div[3]/div[2]/div[9]/div/section/span\"\"\")\n",
    "driver.execute_script(\"arguments[0].scrollIntoView();\", more)\n",
    "driver.execute_script(\"arguments[0].style.border='3px solid red';\", more)\n",
    "more.click()\n",
    "# except ElementNotInteractableException:\n",
    "#     pass\n",
    "# except ElementClickInterceptedException:\n",
    "#     pass\n",
    "\n"
   ]
  },
  {
   "cell_type": "code",
   "execution_count": 102,
   "metadata": {},
   "outputs": [],
   "source": [
    "driver.find_element(By.CSS_SELECTOR, \"\"\"section.mt-4-lg:nth-child(3) > span:nth-child(3)\"\"\").click()"
   ]
  },
  {
   "cell_type": "code",
   "execution_count": null,
   "metadata": {},
   "outputs": [],
   "source": []
  }
 ],
 "metadata": {
  "kernelspec": {
   "display_name": ".vevn",
   "language": "python",
   "name": "python3"
  },
  "language_info": {
   "codemirror_mode": {
    "name": "ipython",
    "version": 3
   },
   "file_extension": ".py",
   "mimetype": "text/x-python",
   "name": "python",
   "nbconvert_exporter": "python",
   "pygments_lexer": "ipython3",
   "version": "3.11.4"
  },
  "orig_nbformat": 4
 },
 "nbformat": 4,
 "nbformat_minor": 2
}
