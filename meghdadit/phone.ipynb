{
 "cells": [
  {
   "cell_type": "code",
   "execution_count": 31,
   "id": "3245cb5a-4a09-444d-8a60-2e3547c62624",
   "metadata": {},
   "outputs": [],
   "source": [
    "import pandas as pd \n",
    "from selenium import webdriver\n",
    "from selenium.webdriver.common.by import By\n",
    "from selenium.webdriver.support.ui import WebDriverWait\n",
    "import time"
   ]
  },
  {
   "cell_type": "code",
   "execution_count": 32,
   "id": "d81bae7a-c0e5-48c2-ad3d-eb59619e1739",
   "metadata": {},
   "outputs": [],
   "source": [
    "driver = webdriver.Chrome()\n",
    "driver.maximize_window()\n",
    "url=\"\"\"https://meghdadit.com/productlist/mobile/?b=82\"\"\"\n",
    "driver.get(url) "
   ]
  },
  {
   "cell_type": "code",
   "execution_count": 33,
   "id": "a79e742c-4fe3-489a-ad7c-30d1070e9683",
   "metadata": {},
   "outputs": [],
   "source": [
    "links = []\n",
    "i = 1\n",
    "while i<=3:\n",
    "    \n",
    "    product = driver.find_elements(By.CLASS_NAME, \"\"\"mh-100\"\"\")\n",
    "    next_btn = driver.find_element(By.CSS_SELECTOR, \"\"\"#SharedMessage_ContentPlaceHolder1_hlkNextPage > i\"\"\")\n",
    "    for p in product:\n",
    "        links.append(p.get_attribute('href'))\n",
    "    driver.implicitly_wait(10)\n",
    "    next_btn.click()\n",
    "    i+=1 "
   ]
  },
  {
   "cell_type": "code",
   "execution_count": 34,
   "id": "6caeb8a7-4f49-4ffc-97ce-73d1bc847e7a",
   "metadata": {},
   "outputs": [],
   "source": [
    "df = pd.DataFrame(columns=['model', 'price', 'ram','storage'])\n"
   ]
  },
  {
   "cell_type": "code",
   "execution_count": 35,
   "id": "299b2b01-22a9-44d6-8c93-16601a3d4447",
   "metadata": {},
   "outputs": [
    {
     "name": "stdout",
     "output_type": "stream",
     "text": [
      "{'model': '', 'price': 'قیمت:', 'ram': '12 گیگابایت', 'storage': '512 گیگابایت'}\n"
     ]
    },
    {
     "name": "stderr",
     "output_type": "stream",
     "text": [
      "C:\\Users\\Mahdiyar\\AppData\\Local\\Temp\\ipykernel_12616\\3412005851.py:13: FutureWarning: The frame.append method is deprecated and will be removed from pandas in a future version. Use pandas.concat instead.\n",
      "  df = df.append(data, ignore_index=True)\n"
     ]
    },
    {
     "name": "stdout",
     "output_type": "stream",
     "text": [
      "{'model': '', 'price': 'قیمت:', 'ram': '3 گیگابایت', 'storage': '32 گیگابایت'}\n"
     ]
    },
    {
     "name": "stderr",
     "output_type": "stream",
     "text": [
      "C:\\Users\\Mahdiyar\\AppData\\Local\\Temp\\ipykernel_12616\\3412005851.py:13: FutureWarning: The frame.append method is deprecated and will be removed from pandas in a future version. Use pandas.concat instead.\n",
      "  df = df.append(data, ignore_index=True)\n"
     ]
    },
    {
     "name": "stdout",
     "output_type": "stream",
     "text": [
      "{'model': '', 'price': 'قیمت:', 'ram': '', 'storage': ''}\n"
     ]
    },
    {
     "name": "stderr",
     "output_type": "stream",
     "text": [
      "C:\\Users\\Mahdiyar\\AppData\\Local\\Temp\\ipykernel_12616\\3412005851.py:13: FutureWarning: The frame.append method is deprecated and will be removed from pandas in a future version. Use pandas.concat instead.\n",
      "  df = df.append(data, ignore_index=True)\n"
     ]
    },
    {
     "name": "stdout",
     "output_type": "stream",
     "text": [
      "{'model': '', 'price': 'قیمت:', 'ram': '', 'storage': ''}\n"
     ]
    },
    {
     "name": "stderr",
     "output_type": "stream",
     "text": [
      "C:\\Users\\Mahdiyar\\AppData\\Local\\Temp\\ipykernel_12616\\3412005851.py:13: FutureWarning: The frame.append method is deprecated and will be removed from pandas in a future version. Use pandas.concat instead.\n",
      "  df = df.append(data, ignore_index=True)\n"
     ]
    },
    {
     "name": "stdout",
     "output_type": "stream",
     "text": [
      "{'model': '', 'price': 'قیمت:', 'ram': '8 گیگابایت', 'storage': '256 گیگابایت'}\n"
     ]
    },
    {
     "name": "stderr",
     "output_type": "stream",
     "text": [
      "C:\\Users\\Mahdiyar\\AppData\\Local\\Temp\\ipykernel_12616\\3412005851.py:13: FutureWarning: The frame.append method is deprecated and will be removed from pandas in a future version. Use pandas.concat instead.\n",
      "  df = df.append(data, ignore_index=True)\n"
     ]
    },
    {
     "name": "stdout",
     "output_type": "stream",
     "text": [
      "{'model': '', 'price': 'قیمت:', 'ram': '', 'storage': ''}\n"
     ]
    },
    {
     "name": "stderr",
     "output_type": "stream",
     "text": [
      "C:\\Users\\Mahdiyar\\AppData\\Local\\Temp\\ipykernel_12616\\3412005851.py:13: FutureWarning: The frame.append method is deprecated and will be removed from pandas in a future version. Use pandas.concat instead.\n",
      "  df = df.append(data, ignore_index=True)\n"
     ]
    },
    {
     "name": "stdout",
     "output_type": "stream",
     "text": [
      "{'model': '', 'price': 'قیمت:', 'ram': '', 'storage': ''}\n"
     ]
    },
    {
     "name": "stderr",
     "output_type": "stream",
     "text": [
      "C:\\Users\\Mahdiyar\\AppData\\Local\\Temp\\ipykernel_12616\\3412005851.py:13: FutureWarning: The frame.append method is deprecated and will be removed from pandas in a future version. Use pandas.concat instead.\n",
      "  df = df.append(data, ignore_index=True)\n"
     ]
    },
    {
     "name": "stdout",
     "output_type": "stream",
     "text": [
      "{'model': '', 'price': 'قیمت:', 'ram': '', 'storage': ''}\n"
     ]
    },
    {
     "name": "stderr",
     "output_type": "stream",
     "text": [
      "C:\\Users\\Mahdiyar\\AppData\\Local\\Temp\\ipykernel_12616\\3412005851.py:13: FutureWarning: The frame.append method is deprecated and will be removed from pandas in a future version. Use pandas.concat instead.\n",
      "  df = df.append(data, ignore_index=True)\n"
     ]
    },
    {
     "name": "stdout",
     "output_type": "stream",
     "text": [
      "{'model': '', 'price': 'قیمت:', 'ram': '', 'storage': ''}\n"
     ]
    },
    {
     "name": "stderr",
     "output_type": "stream",
     "text": [
      "C:\\Users\\Mahdiyar\\AppData\\Local\\Temp\\ipykernel_12616\\3412005851.py:13: FutureWarning: The frame.append method is deprecated and will be removed from pandas in a future version. Use pandas.concat instead.\n",
      "  df = df.append(data, ignore_index=True)\n"
     ]
    },
    {
     "name": "stdout",
     "output_type": "stream",
     "text": [
      "{'model': '', 'price': 'قیمت:', 'ram': '', 'storage': ''}\n"
     ]
    },
    {
     "name": "stderr",
     "output_type": "stream",
     "text": [
      "C:\\Users\\Mahdiyar\\AppData\\Local\\Temp\\ipykernel_12616\\3412005851.py:13: FutureWarning: The frame.append method is deprecated and will be removed from pandas in a future version. Use pandas.concat instead.\n",
      "  df = df.append(data, ignore_index=True)\n"
     ]
    },
    {
     "name": "stdout",
     "output_type": "stream",
     "text": [
      "{'model': '', 'price': 'قیمت:', 'ram': '3 گیگابایت', 'storage': '32 گیگابایت'}\n"
     ]
    },
    {
     "name": "stderr",
     "output_type": "stream",
     "text": [
      "C:\\Users\\Mahdiyar\\AppData\\Local\\Temp\\ipykernel_12616\\3412005851.py:13: FutureWarning: The frame.append method is deprecated and will be removed from pandas in a future version. Use pandas.concat instead.\n",
      "  df = df.append(data, ignore_index=True)\n"
     ]
    },
    {
     "name": "stdout",
     "output_type": "stream",
     "text": [
      "{'model': '', 'price': 'قیمت:', 'ram': '', 'storage': ''}\n"
     ]
    },
    {
     "name": "stderr",
     "output_type": "stream",
     "text": [
      "C:\\Users\\Mahdiyar\\AppData\\Local\\Temp\\ipykernel_12616\\3412005851.py:13: FutureWarning: The frame.append method is deprecated and will be removed from pandas in a future version. Use pandas.concat instead.\n",
      "  df = df.append(data, ignore_index=True)\n"
     ]
    },
    {
     "name": "stdout",
     "output_type": "stream",
     "text": [
      "{'model': '', 'price': 'قیمت:', 'ram': '6 گیگابایت', 'storage': '128 گیگابایت'}\n"
     ]
    },
    {
     "name": "stderr",
     "output_type": "stream",
     "text": [
      "C:\\Users\\Mahdiyar\\AppData\\Local\\Temp\\ipykernel_12616\\3412005851.py:13: FutureWarning: The frame.append method is deprecated and will be removed from pandas in a future version. Use pandas.concat instead.\n",
      "  df = df.append(data, ignore_index=True)\n"
     ]
    },
    {
     "name": "stdout",
     "output_type": "stream",
     "text": [
      "Message: no such element: Unable to locate element: {\"method\":\"css selector\",\"selector\":\"#specs > article > section:nth-child(4) > ul > li:nth-child(2) > div.attribute-value\"}\n",
      "  (Session info: chrome=115.0.5790.173); For documentation on this error, please visit: https://www.selenium.dev/documentation/webdriver/troubleshooting/errors#no-such-element-exception\n",
      "Stacktrace:\n",
      "Backtrace:\n",
      "\tGetHandleVerifier [0x00007FF691CB4A62+57106]\n",
      "\t(No symbol) [0x00007FF691C2CF52]\n",
      "\t(No symbol) [0x00007FF691AFE2CB]\n",
      "\t(No symbol) [0x00007FF691B3786E]\n",
      "\t(No symbol) [0x00007FF691B3795C]\n",
      "\t(No symbol) [0x00007FF691B70477]\n",
      "\t(No symbol) [0x00007FF691B569FF]\n",
      "\t(No symbol) [0x00007FF691B6E522]\n",
      "\t(No symbol) [0x00007FF691B56793]\n",
      "\t(No symbol) [0x00007FF691B2CE81]\n",
      "\t(No symbol) [0x00007FF691B2E064]\n",
      "\tGetHandleVerifier [0x00007FF691F64222+2873042]\n",
      "\tGetHandleVerifier [0x00007FF691FB6590+3209792]\n",
      "\tGetHandleVerifier [0x00007FF691FAF3AF+3180639]\n",
      "\tGetHandleVerifier [0x00007FF691D45F25+652245]\n",
      "\t(No symbol) [0x00007FF691C38618]\n",
      "\t(No symbol) [0x00007FF691C347C4]\n",
      "\t(No symbol) [0x00007FF691C348BC]\n",
      "\t(No symbol) [0x00007FF691C24C33]\n",
      "\tBaseThreadInitThunk [0x00007FF8DAA67614+20]\n",
      "\tRtlUserThreadStart [0x00007FF8DBA026B1+33]\n",
      " https://meghdadit.com/product/125924/samsung-guru-music-2-sm-b315e-dual-sim-mobile-phone/\n"
     ]
    }
   ],
   "source": [
    "try:\n",
    "    for l in links:\n",
    "        driver.get(l)\n",
    "    \n",
    "        model = driver.find_element(By.CSS_SELECTOR, \"\"\"#siteWidth > div > div.product-summary-wrapper > div > div.col-12.col-xl-5.summary-right-column > div > div.d-xl-none.text-right.p-3.mt-2.title-wrapper > h1\"\"\")\n",
    "        price = driver.find_element(By.CSS_SELECTOR, \"\"\"#SharedMessage_ContentPlaceHolder1_divPrice > div.price-value-wrapper.price-wrapper > div\"\"\")\n",
    "        ram = driver.find_element(By.CSS_SELECTOR, \"\"\"#specs > article > section:nth-child(4) > ul > li:nth-child(1) > div.attribute-value\"\"\")\n",
    "        storage=driver.find_element(By.CSS_SELECTOR, \"\"\"#specs > article > section:nth-child(4) > ul > li:nth-child(2) > div.attribute-value\"\"\") \n",
    "    \n",
    "        data = {'model':model.text, 'price':price.text, 'ram':ram.text, 'storage':storage.text}\n",
    "        print(data)\n",
    "        \n",
    "        df = df.append(data, ignore_index=True)\n",
    "except Exception as e:\n",
    "    print(e, driver.current_url)"
   ]
  },
  {
   "cell_type": "code",
   "execution_count": null,
   "id": "096f4ef1-2b47-4c60-ba7f-1582396a9453",
   "metadata": {},
   "outputs": [],
   "source": []
  }
 ],
 "metadata": {
  "kernelspec": {
   "display_name": "Python 3 (ipykernel)",
   "language": "python",
   "name": "python3"
  },
  "language_info": {
   "codemirror_mode": {
    "name": "ipython",
    "version": 3
   },
   "file_extension": ".py",
   "mimetype": "text/x-python",
   "name": "python",
   "nbconvert_exporter": "python",
   "pygments_lexer": "ipython3",
   "version": "3.10.11"
  }
 },
 "nbformat": 4,
 "nbformat_minor": 5
}
