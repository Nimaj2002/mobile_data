{
 "cells": [
  {
   "cell_type": "code",
   "execution_count": 29,
   "id": "157c8398-69b8-43ce-a26e-2e4437125115",
   "metadata": {},
   "outputs": [],
   "source": [
    "import re \n",
    "import pandas as pd \n",
    "from selenium import webdriver\n",
    "from selenium.webdriver.common.by import By\n",
    "from selenium.webdriver.support.ui import WebDriverWait\n",
    "import time"
   ]
  },
  {
   "cell_type": "code",
   "execution_count": 30,
   "id": "08ce720c-d43b-455c-9ddc-742b6062410f",
   "metadata": {},
   "outputs": [],
   "source": [
    "driver = webdriver.Chrome()\n",
    "driver.maximize_window()\n",
    "url=\"\"\"https://meghdadit.com/productlist/mobile/?b=19\"\"\"\n",
    "driver.get(url) "
   ]
  },
  {
   "cell_type": "code",
   "execution_count": 31,
   "id": "601ab092-2a0a-4aef-9bee-fee6b991b833",
   "metadata": {},
   "outputs": [
    {
     "name": "stdout",
     "output_type": "stream",
     "text": [
      "['گوشی موبایل اپل مدل iPhone 13 Not Active ظرفیت 128GB دو سیم کارت', 'گوشی موبایل اپل مدل iPhone 13 Pro Max ظرفیت 1TB تک سیم کارت', 'گوشی موبایل اپل مدل iPhone 13 Pro ظرفیت 512GB تک سیم کارت', 'گوشی موبایل اپل مدل iPhone 13 Pro ظرفیت 1TB تک سیم کارت', 'گوشی موبایل اپل مدل iPhone 13 Pro Max ظرفیت 128GB تک سیم کارت', 'گوشی موبایل اپل مدل iPhone 13 Pro Max ظرفیت 256GB تک سیم کارت', 'گوشی موبایل اپل مدل iPhone 13 Not Active ظرفیت 256GB دو سیم کارت', 'گوشی موبایل اپل مدل آیفون iPhone 11 Not Active ظرفیت 128 گیگابایت تک سیم کارت', 'گوشی موبایل اپل آیفون 5 اس با ظرفیت 32 گیگابایت', 'گوشی موبایل اپل آیفون 5 اس با ظرفیت 16 گیگابایت', 'گوشی موبایل اپل مدل آیفون ایکس با ظرفیت 64 گیگابایت', 'گوشی موبایل اپل مدل آیفون ایکس با ظرفیت 256 گیگابایت', 'گوشی موبایل اپل مدلiPhone 11 Pro Max با ظرفیت 256 گیگابایت دو سیم کارت', 'گوشی موبایل اپل مدل آیفون 8 با ظرفیت 64 گیگابایت', 'گوشی موبایل اپل مدل iPhone 11 با ظرفیت 128 گیگابایت دو سیم کارت', 'گوشی موبایل اپل آیفون اس ای با ظرفیت 16 گیگابایت', 'گوشی موبایل اپل مدل آیفون XR با ظرفیت 128 گیگابایت', 'گوشی موبایل اپل مدل iPhone 11 با ظرفیت 64 گیگابایت دو سیم کارت', 'گوشی موبایل اپل آیفون اس ای نسل دوم با ظرفیت 64 گیگابایت', 'گوشی موبایل اپل مدل iPhone 11 Pro با ظرفیت 256 گیگابایت دو سیم کارت', 'گوشی موبایل اپل آیفون 5 اس با ظرفیت 64 گیگابایت', 'گوشی موبایل اپل مدل آیفون XS Max با ظرفیت 256 گیگابایت', 'گوشی موبایل اپل آیفون SE نسل دوم با ظرفیت 128 گیگابایت', 'گوشی موبایل اپل مدلiPhone 11 Pro با ظرفیت 64 گیگابایت دو سیم کارت']\n",
      "['36800000 ', '89500000 ', '72000000 ', '73500000 ', '72000000 ', '85500000 ', '43200000 ', '31800000 ', 'جد', 'جد', 'جد', 'جد', 'جد', 'جد', 'جد', 'جد', 'جد', 'جد', 'جد', 'جد', 'جد', 'جد', 'جد', 'جد']\n",
      "24\n"
     ]
    }
   ],
   "source": [
    "models=driver.find_elements(By.XPATH,\"\"\"/html/body/form/div[3]/div/div[3]/div/div[2]/article/div[1]/ul/li/div/div[4]/div[1]/a\"\"\")\n",
    "prices=driver.find_elements(By.XPATH,\"\"\"/html/body/form/div[3]/div/div[3]/div/div[2]/article/div[1]/ul/li/div/div[4]/div[2]/div/div/span\"\"\")\n",
    "off_price=driver.find_element(By.XPATH,\"\"\"/html/body/form/div[3]/div/div[3]/div/div[2]/article/div[1]/ul/li[7]/div/div[4]/div[2]/div/div/span[2]\"\"\")\n",
    "prices.remove(off_price)\n",
    "t_models=[]\n",
    "t_prices=[]\n",
    "for model in models:\n",
    "    name=model.text\n",
    "    t_models.append(name)\n",
    "for price in prices:\n",
    "    Price=price.text\n",
    "    t_prices.append(Price) \n",
    "   \n",
    "n_prices = [re.sub(r'[,تومان]','',price) for price in t_prices]    \n",
    "print(t_models)\n",
    "print(n_prices)\n",
    "print(len(n_prices))"
   ]
  },
  {
   "cell_type": "code",
   "execution_count": 32,
   "id": "ca31abc0-af82-4568-b095-18ac40cea30d",
   "metadata": {},
   "outputs": [],
   "source": [
    "data = {'model': t_models ,'Price': n_prices}\n",
    "df = pd.DataFrame(data) "
   ]
  },
  {
   "cell_type": "code",
   "execution_count": 33,
   "id": "1567da71-60ab-4786-a6f7-a60fad72a50a",
   "metadata": {},
   "outputs": [
    {
     "data": {
      "text/html": [
       "<div>\n",
       "<style scoped>\n",
       "    .dataframe tbody tr th:only-of-type {\n",
       "        vertical-align: middle;\n",
       "    }\n",
       "\n",
       "    .dataframe tbody tr th {\n",
       "        vertical-align: top;\n",
       "    }\n",
       "\n",
       "    .dataframe thead th {\n",
       "        text-align: right;\n",
       "    }\n",
       "</style>\n",
       "<table border=\"1\" class=\"dataframe\">\n",
       "  <thead>\n",
       "    <tr style=\"text-align: right;\">\n",
       "      <th></th>\n",
       "      <th>model</th>\n",
       "      <th>Price</th>\n",
       "    </tr>\n",
       "  </thead>\n",
       "  <tbody>\n",
       "    <tr>\n",
       "      <th>0</th>\n",
       "      <td>گوشی موبایل اپل مدل iPhone 13 Not Active ظرفیت...</td>\n",
       "      <td>36800000</td>\n",
       "    </tr>\n",
       "    <tr>\n",
       "      <th>1</th>\n",
       "      <td>گوشی موبایل اپل مدل iPhone 13 Pro Max ظرفیت 1T...</td>\n",
       "      <td>89500000</td>\n",
       "    </tr>\n",
       "    <tr>\n",
       "      <th>2</th>\n",
       "      <td>گوشی موبایل اپل مدل iPhone 13 Pro ظرفیت 512GB ...</td>\n",
       "      <td>72000000</td>\n",
       "    </tr>\n",
       "    <tr>\n",
       "      <th>3</th>\n",
       "      <td>گوشی موبایل اپل مدل iPhone 13 Pro ظرفیت 1TB تک...</td>\n",
       "      <td>73500000</td>\n",
       "    </tr>\n",
       "    <tr>\n",
       "      <th>4</th>\n",
       "      <td>گوشی موبایل اپل مدل iPhone 13 Pro Max ظرفیت 12...</td>\n",
       "      <td>72000000</td>\n",
       "    </tr>\n",
       "    <tr>\n",
       "      <th>5</th>\n",
       "      <td>گوشی موبایل اپل مدل iPhone 13 Pro Max ظرفیت 25...</td>\n",
       "      <td>85500000</td>\n",
       "    </tr>\n",
       "    <tr>\n",
       "      <th>6</th>\n",
       "      <td>گوشی موبایل اپل مدل iPhone 13 Not Active ظرفیت...</td>\n",
       "      <td>43200000</td>\n",
       "    </tr>\n",
       "    <tr>\n",
       "      <th>7</th>\n",
       "      <td>گوشی موبایل اپل مدل آیفون iPhone 11 Not Active...</td>\n",
       "      <td>31800000</td>\n",
       "    </tr>\n",
       "  </tbody>\n",
       "</table>\n",
       "</div>"
      ],
      "text/plain": [
       "                                               model      Price\n",
       "0  گوشی موبایل اپل مدل iPhone 13 Not Active ظرفیت...  36800000 \n",
       "1  گوشی موبایل اپل مدل iPhone 13 Pro Max ظرفیت 1T...  89500000 \n",
       "2  گوشی موبایل اپل مدل iPhone 13 Pro ظرفیت 512GB ...  72000000 \n",
       "3  گوشی موبایل اپل مدل iPhone 13 Pro ظرفیت 1TB تک...  73500000 \n",
       "4  گوشی موبایل اپل مدل iPhone 13 Pro Max ظرفیت 12...  72000000 \n",
       "5  گوشی موبایل اپل مدل iPhone 13 Pro Max ظرفیت 25...  85500000 \n",
       "6  گوشی موبایل اپل مدل iPhone 13 Not Active ظرفیت...  43200000 \n",
       "7  گوشی موبایل اپل مدل آیفون iPhone 11 Not Active...  31800000 "
      ]
     },
     "execution_count": 33,
     "metadata": {},
     "output_type": "execute_result"
    }
   ],
   "source": [
    "df = df.drop(df[(df['Price'] == 'جد')].index)\n",
    "df"
   ]
  },
  {
   "cell_type": "code",
   "execution_count": 34,
   "id": "43937b01-d446-453d-95a0-1a0909ff03d5",
   "metadata": {},
   "outputs": [],
   "source": [
    "df.to_csv('apple_phones')"
   ]
  },
  {
   "cell_type": "code",
   "execution_count": 35,
   "id": "2fcfe7f4-db56-4c71-bf6b-8bfcb4aaeb17",
   "metadata": {},
   "outputs": [],
   "source": [
    "df.to_excel('apple.xlsx', index=False)"
   ]
  }
 ],
 "metadata": {
  "kernelspec": {
   "display_name": "Python 3 (ipykernel)",
   "language": "python",
   "name": "python3"
  },
  "language_info": {
   "codemirror_mode": {
    "name": "ipython",
    "version": 3
   },
   "file_extension": ".py",
   "mimetype": "text/x-python",
   "name": "python",
   "nbconvert_exporter": "python",
   "pygments_lexer": "ipython3",
   "version": "3.10.11"
  }
 },
 "nbformat": 4,
 "nbformat_minor": 5
}
