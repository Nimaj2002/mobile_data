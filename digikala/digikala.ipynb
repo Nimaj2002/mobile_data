{
 "cells": [
  {
   "cell_type": "markdown",
   "metadata": {},
   "source": [
    "# Digikala data for Apple, Samsung, Xiaomi"
   ]
  },
  {
   "cell_type": "code",
   "execution_count": null,
   "metadata": {},
   "outputs": [],
   "source": [
    "! pip install selenium\n",
    "! pip install pandas==1.5.3\n",
    "! pip install unidecode"
   ]
  },
  {
   "cell_type": "code",
   "execution_count": 1,
   "metadata": {},
   "outputs": [],
   "source": [
    "import pandas as pd\n",
    "from selenium import webdriver\n",
    "from selenium.webdriver.support.ui import WebDriverWait\n",
    "from selenium.webdriver.common.by import By\n",
    "from selenium.webdriver.common.keys import Keys\n",
    "from selenium.common.exceptions import NoSuchElementException, ElementNotInteractableException, ElementClickInterceptedException\n",
    "from selenium.webdriver.support import expected_conditions as EC"
   ]
  },
  {
   "cell_type": "code",
   "execution_count": 2,
   "metadata": {},
   "outputs": [],
   "source": [
    "from unidecode import unidecode\n",
    "import time"
   ]
  },
  {
   "cell_type": "code",
   "execution_count": 3,
   "metadata": {},
   "outputs": [],
   "source": [
    "# this ignores the FutureWarning warning from pandas.append() \n",
    "import warnings\n",
    "warnings.simplefilter(action='ignore', category=FutureWarning)"
   ]
  },
  {
   "cell_type": "markdown",
   "metadata": {},
   "source": [
    "### opening webdriver"
   ]
  },
  {
   "cell_type": "code",
   "execution_count": 4,
   "metadata": {},
   "outputs": [],
   "source": [
    "driver = webdriver.Chrome()"
   ]
  },
  {
   "cell_type": "code",
   "execution_count": 5,
   "metadata": {},
   "outputs": [],
   "source": [
    "url = \"https://www.digikala.com/search/category-mobile-phone/\"\n",
    "apple_url = url + \"apple/\"\n",
    "xiaomi_url = url + \"xiaomi/\"\n",
    "samsung_url = url + \"samsung/\""
   ]
  },
  {
   "cell_type": "markdown",
   "metadata": {},
   "source": [
    "getting links of 200 apple product if availible"
   ]
  },
  {
   "cell_type": "code",
   "execution_count": 6,
   "metadata": {},
   "outputs": [],
   "source": [
    "driver.maximize_window()\n",
    "driver.get(apple_url)"
   ]
  },
  {
   "cell_type": "code",
   "execution_count": 26,
   "metadata": {},
   "outputs": [],
   "source": [
    "# choose most selled\n",
    "driver.find_element(By.XPATH, \"\"\"/html/body/div[1]/div[1]/div[3]/div[3]/div[3]/section[1]/div[1]/div/div/div/div[2]/span[3]\"\"\").click()"
   ]
  },
  {
   "cell_type": "code",
   "execution_count": 27,
   "metadata": {},
   "outputs": [],
   "source": [
    "apple_links = []\n",
    "# link_count = how many data you want\n",
    "link_count = 200\n",
    "y = 480\n",
    "\n",
    "for _ in range(link_count // 4):\n",
    "    cards = driver.find_elements(By.XPATH, f\"/html/body/div[1]/div[1]/div[3]/div[3]/div[3]/section[1]/div[2]/div/a\")\n",
    "    for card in cards:\n",
    "        if \"ناموجود\" not in card.text and \"توقف تولید\" not in card.text and \"به‌زودی\" not in card.text:\n",
    "            if (link := card.get_attribute(\"href\")) not in apple_links:\n",
    "                apple_links.append(link)\n",
    "\n",
    "    driver.execute_script(f\"window.scrollTo(0,{y})\")\n",
    "    y += 480\n",
    "    time.sleep(2)"
   ]
  },
  {
   "cell_type": "code",
   "execution_count": 75,
   "metadata": {},
   "outputs": [
    {
     "data": {
      "text/plain": [
       "31"
      ]
     },
     "execution_count": 75,
     "metadata": {},
     "output_type": "execute_result"
    }
   ],
   "source": [
    "len(apple_links)"
   ]
  },
  {
   "cell_type": "markdown",
   "metadata": {},
   "source": [
    "getting data from each link"
   ]
  },
  {
   "cell_type": "code",
   "execution_count": 86,
   "metadata": {},
   "outputs": [
    {
     "data": {
      "text/html": [
       "<div>\n",
       "<style scoped>\n",
       "    .dataframe tbody tr th:only-of-type {\n",
       "        vertical-align: middle;\n",
       "    }\n",
       "\n",
       "    .dataframe tbody tr th {\n",
       "        vertical-align: top;\n",
       "    }\n",
       "\n",
       "    .dataframe thead th {\n",
       "        text-align: right;\n",
       "    }\n",
       "</style>\n",
       "<table border=\"1\" class=\"dataframe\">\n",
       "  <thead>\n",
       "    <tr style=\"text-align: right;\">\n",
       "      <th></th>\n",
       "      <th>brand</th>\n",
       "      <th>model</th>\n",
       "      <th>off_price</th>\n",
       "      <th>price</th>\n",
       "      <th>storage</th>\n",
       "      <th>ram</th>\n",
       "      <th>color</th>\n",
       "      <th>link</th>\n",
       "    </tr>\n",
       "  </thead>\n",
       "  <tbody>\n",
       "  </tbody>\n",
       "</table>\n",
       "</div>"
      ],
      "text/plain": [
       "Empty DataFrame\n",
       "Columns: [brand, model, off_price, price, storage, ram, color, link]\n",
       "Index: []"
      ]
     },
     "execution_count": 86,
     "metadata": {},
     "output_type": "execute_result"
    }
   ],
   "source": [
    "apple_df = pd.DataFrame(columns=[\"brand\", 'model', 'off_price',\"price\", \"storage\", \"ram\", \"color\", \"link\"])\n",
    "apple_df"
   ]
  },
  {
   "cell_type": "code",
   "execution_count": null,
   "metadata": {},
   "outputs": [],
   "source": [
    "i = 1\n",
    "for link in apple_links:\n",
    "    # print(i)\n",
    "    # i += 1\n",
    "    driver.get(link)\n",
    "    time.sleep(3)\n",
    "    # Loading all the page\n",
    "    driver.execute_script(\"window.scrollTo(0,document.body.scrollHeight)\")\n",
    "    time.sleep(2)\n",
    "    driver.execute_script(\"window.scrollTo(0,document.body.scrollHeight)\")\n",
    "    time.sleep(2)\n",
    "    driver.execute_script(\"window.scrollTo(0,0)\")\n",
    "    time.sleep(2)\n",
    "\n",
    "    wait = WebDriverWait(driver, 10)\n",
    "    # getting the title\n",
    "    title = wait.until(EC.visibility_of_element_located((By.CSS_SELECTOR, \"\"\"h1.text-h4\"\"\"))).text\n",
    "\n",
    "    # color\n",
    "    try:\n",
    "        # selecting first color\n",
    "        color = driver.find_element(By.CSS_SELECTOR, \"\"\"div.styles_InfoSectionVariationColor__pX_3M:nth-child(1)\"\"\")\n",
    "        color.click()\n",
    "        color = color.text\n",
    "    except:\n",
    "        color = \"NAN\"\n",
    "\n",
    "    more = wait.until(EC.visibility_of_element_located((By.XPATH, \"\"\"//*[@id=\"__next\"]/div[1]/div[3]/div[3]/div[2]/div/div[1]/section/span/span\"\"\")))\n",
    "    try:\n",
    "        more.location_once_scrolled_into_view\n",
    "        # driver.execute_script(f\"window.scrollTo({more.location['x']},{more.location['y']-300})\")\n",
    "        time.sleep(3)\n",
    "        more.click()\n",
    "    except:\n",
    "        driver.execute_script(f\"window.scrollTo({more.location['x']},{more.location['y']-300})\")\n",
    "        time.sleep(3)    \n",
    "        more.click()\n",
    "\n",
    "\n",
    "    # getting infos from specs\n",
    "    ram = \"NAN\"\n",
    "    storage = \"NAN\"\n",
    "    model = \"NAN\"\n",
    "\n",
    "    infos = driver.find_elements(By.XPATH, \"\"\"//*[@id=\"__next\"]/div[1]/div[3]/div[3]/div[2]/div/div[1]/section/div[2]/div/div\"\"\")\n",
    "\n",
    "    for info in infos:\n",
    "        if \"حافظه داخلی\" in info.text:\n",
    "            storage_info = infos.index(info)\n",
    "            storage = unidecode(infos[storage_info].text.split(\"\\n\")[1].split(\" \")[0])\n",
    "\n",
    "        if \"مقدار RAM\" in info.text:\n",
    "            ram_info = infos.index(info)\n",
    "            ram = infos[ram_info].text.split(\"\\n\")[1]\n",
    "\n",
    "        if \"مدل\" in info.text:\n",
    "            model_info = infos.index(info)\n",
    "            model = unidecode(infos[model_info].text.split(\"\\n\")[1])\n",
    "\n",
    "    \n",
    "    # Get price\n",
    "    try:\n",
    "        prices = driver.find_elements(By.XPATH, \"\"\"//*[@id=\"__next\"]/div[1]/div[3]/div[3]/div[2]/div/div[2]/div/div[1]/div\"\"\")\n",
    "        price_infos = []\n",
    "        for info in prices:\n",
    "            if \"افزودن به سبد\" in info.text:\n",
    "                price_infos = info.text.split(\"\\n\")\n",
    "\n",
    "        if len(price_infos) > 2:\n",
    "            # with off\n",
    "            price = unidecode(price_infos[0].replace(\",\", \"\"))\n",
    "            price = int(price)\n",
    "            try:\n",
    "                off_price = unidecode(price_infos[2].replace(\",\", \"\"))\n",
    "                off_price = int(off_price)\n",
    "            except ValueError:\n",
    "                off_price = \"NAN\"\n",
    "        else:\n",
    "            price = unidecode(price_infos[0].replace(\",\", \"\"))\n",
    "            price = int(price)\n",
    "            off_price = \"NAN\"\n",
    "    except:\n",
    "        # Not availible\n",
    "        continue\n",
    "    \n",
    "    data = {\n",
    "        \"brand\" : \"apple\",\n",
    "        \"title\" : title,\n",
    "        \"model\" : model,\n",
    "        'price' : price,\n",
    "        \"off_price\" : off_price,\n",
    "        \"color\" : color,\n",
    "        \"storage\" : storage,\n",
    "        \"ram\" : ram,\n",
    "        \"link\" : link\n",
    "    }\n",
    "    \n",
    "    apple_df = apple_df.append(data, ignore_index=True)\n"
   ]
  },
  {
   "cell_type": "code",
   "execution_count": 89,
   "metadata": {},
   "outputs": [],
   "source": [
    "apple_df.to_csv(\"apple_data.csv\")"
   ]
  },
  {
   "cell_type": "markdown",
   "metadata": {},
   "source": [
    "getting links of 200 samsung product if availible"
   ]
  },
  {
   "cell_type": "code",
   "execution_count": 6,
   "metadata": {},
   "outputs": [],
   "source": [
    "driver.maximize_window()\n",
    "driver.get(samsung_url)"
   ]
  },
  {
   "cell_type": "code",
   "execution_count": 7,
   "metadata": {},
   "outputs": [],
   "source": [
    "# choose most selled\n",
    "driver.find_element(By.XPATH, \"\"\"/html/body/div[1]/div[1]/div[3]/div[3]/div[3]/section[1]/div[1]/div/div/div/div[2]/span[3]\"\"\").click()"
   ]
  },
  {
   "cell_type": "code",
   "execution_count": 8,
   "metadata": {},
   "outputs": [],
   "source": [
    "samsung_links = []\n",
    "# link_count = how many data you want\n",
    "link_count = 200\n",
    "y = 480\n",
    "\n",
    "for _ in range(link_count // 4):\n",
    "    cards = driver.find_elements(By.XPATH, f\"/html/body/div[1]/div[1]/div[3]/div[3]/div[3]/section[1]/div[2]/div/a\")\n",
    "    for card in cards:\n",
    "        if \"ناموجود\" not in card.text and \"توقف تولید\" not in card.text and \"به‌زودی\" not in card.text:\n",
    "            if (link := card.get_attribute(\"href\")) not in samsung_links:\n",
    "                samsung_links.append(link)\n",
    "\n",
    "    driver.execute_script(f\"window.scrollTo(0,{y})\")\n",
    "    y += 480\n",
    "    time.sleep(2)"
   ]
  },
  {
   "cell_type": "code",
   "execution_count": 9,
   "metadata": {},
   "outputs": [
    {
     "data": {
      "text/plain": [
       "107"
      ]
     },
     "execution_count": 9,
     "metadata": {},
     "output_type": "execute_result"
    }
   ],
   "source": [
    "len(samsung_links)"
   ]
  },
  {
   "cell_type": "markdown",
   "metadata": {},
   "source": [
    "getting data from each link"
   ]
  },
  {
   "cell_type": "code",
   "execution_count": 10,
   "metadata": {},
   "outputs": [
    {
     "data": {
      "text/html": [
       "<div>\n",
       "<style scoped>\n",
       "    .dataframe tbody tr th:only-of-type {\n",
       "        vertical-align: middle;\n",
       "    }\n",
       "\n",
       "    .dataframe tbody tr th {\n",
       "        vertical-align: top;\n",
       "    }\n",
       "\n",
       "    .dataframe thead th {\n",
       "        text-align: right;\n",
       "    }\n",
       "</style>\n",
       "<table border=\"1\" class=\"dataframe\">\n",
       "  <thead>\n",
       "    <tr style=\"text-align: right;\">\n",
       "      <th></th>\n",
       "      <th>brand</th>\n",
       "      <th>model</th>\n",
       "      <th>off_price</th>\n",
       "      <th>price</th>\n",
       "      <th>storage</th>\n",
       "      <th>ram</th>\n",
       "      <th>color</th>\n",
       "      <th>link</th>\n",
       "    </tr>\n",
       "  </thead>\n",
       "  <tbody>\n",
       "  </tbody>\n",
       "</table>\n",
       "</div>"
      ],
      "text/plain": [
       "Empty DataFrame\n",
       "Columns: [brand, model, off_price, price, storage, ram, color, link]\n",
       "Index: []"
      ]
     },
     "execution_count": 10,
     "metadata": {},
     "output_type": "execute_result"
    }
   ],
   "source": [
    "samsung_df = pd.DataFrame(columns=[\"brand\", 'model', 'off_price',\"price\", \"storage\", \"ram\", \"color\", \"link\"])\n",
    "samsung_df"
   ]
  },
  {
   "cell_type": "code",
   "execution_count": 11,
   "metadata": {},
   "outputs": [],
   "source": [
    "i = 1\n",
    "for link in samsung_links:\n",
    "    # print(i)\n",
    "    # i += 1\n",
    "    driver.get(link)\n",
    "    time.sleep(3)\n",
    "    # Loading all the page\n",
    "    driver.execute_script(\"window.scrollTo(0,document.body.scrollHeight)\")\n",
    "    time.sleep(2)\n",
    "    driver.execute_script(\"window.scrollTo(0,document.body.scrollHeight)\")\n",
    "    time.sleep(2)\n",
    "    driver.execute_script(\"window.scrollTo(0,0)\")\n",
    "    time.sleep(2)\n",
    "\n",
    "    wait = WebDriverWait(driver, 10)\n",
    "    # getting the title\n",
    "    title = wait.until(EC.visibility_of_element_located((By.CSS_SELECTOR, \"\"\"h1.text-h4\"\"\"))).text\n",
    "\n",
    "    # color\n",
    "    try:\n",
    "        # selecting first color\n",
    "        color = driver.find_element(By.CSS_SELECTOR, \"\"\"div.styles_InfoSectionVariationColor__pX_3M:nth-child(1)\"\"\")\n",
    "        color.click()\n",
    "        color = color.text\n",
    "    except:\n",
    "        color = \"NAN\"\n",
    "\n",
    "    more = wait.until(EC.visibility_of_element_located((By.XPATH, \"\"\"//*[@id=\"__next\"]/div[1]/div[3]/div[3]/div[2]/div/div[1]/section/span/span\"\"\")))\n",
    "    try:\n",
    "        more.location_once_scrolled_into_view\n",
    "        # driver.execute_script(f\"window.scrollTo({more.location['x']},{more.location['y']-300})\")\n",
    "        time.sleep(3)\n",
    "        more.click()\n",
    "    except:\n",
    "        driver.execute_script(f\"window.scrollTo({more.location['x']},{more.location['y']-300})\")\n",
    "        time.sleep(3)    \n",
    "        more.click()\n",
    "\n",
    "\n",
    "    # getting infos from specs\n",
    "    ram = \"NAN\"\n",
    "    storage = \"NAN\"\n",
    "    model = \"NAN\"\n",
    "\n",
    "    infos = driver.find_elements(By.XPATH, \"\"\"//*[@id=\"__next\"]/div[1]/div[3]/div[3]/div[2]/div/div[1]/section/div[2]/div/div\"\"\")\n",
    "\n",
    "    for info in infos:\n",
    "        if \"حافظه داخلی\" in info.text:\n",
    "            storage_info = infos.index(info)\n",
    "            storage = unidecode(infos[storage_info].text.split(\"\\n\")[1].split(\" \")[0])\n",
    "\n",
    "        if \"مقدار RAM\" in info.text:\n",
    "            ram_info = infos.index(info)\n",
    "            ram = infos[ram_info].text.split(\"\\n\")[1]\n",
    "\n",
    "        if \"مدل\" in info.text:\n",
    "            model_info = infos.index(info)\n",
    "            model = unidecode(infos[model_info].text.split(\"\\n\")[1])\n",
    "\n",
    "    \n",
    "    # Get price\n",
    "    try:\n",
    "        prices = driver.find_elements(By.XPATH, \"\"\"//*[@id=\"__next\"]/div[1]/div[3]/div[3]/div[2]/div/div[2]/div/div[1]/div\"\"\")\n",
    "        price_infos = []\n",
    "        for info in prices:\n",
    "            if \"افزودن به سبد\" in info.text:\n",
    "                price_infos = info.text.split(\"\\n\")\n",
    "\n",
    "        if len(price_infos) > 2:\n",
    "            # with off\n",
    "            price = unidecode(price_infos[0].replace(\",\", \"\"))\n",
    "            price = int(price)\n",
    "            try:\n",
    "                off_price = unidecode(price_infos[2].replace(\",\", \"\"))\n",
    "                off_price = int(off_price)\n",
    "            except ValueError:\n",
    "                off_price = \"NAN\"\n",
    "        else:\n",
    "            price = unidecode(price_infos[0].replace(\",\", \"\"))\n",
    "            price = int(price)\n",
    "            off_price = \"NAN\"\n",
    "    except:\n",
    "        # Not availible\n",
    "        continue\n",
    "    \n",
    "    data = {\n",
    "        \"brand\" : \"samsung\",\n",
    "        \"title\" : title,\n",
    "        \"model\" : model,\n",
    "        'price' : price,\n",
    "        \"off_price\" : off_price,\n",
    "        \"color\" : color,\n",
    "        \"storage\" : storage,\n",
    "        \"ram\" : ram,\n",
    "        \"link\" : link\n",
    "    }\n",
    "    \n",
    "    samsung_df = samsung_df.append(data, ignore_index=True)\n"
   ]
  },
  {
   "cell_type": "code",
   "execution_count": 13,
   "metadata": {},
   "outputs": [],
   "source": [
    "samsung_df.to_csv(\"samsung_data.csv\")"
   ]
  }
 ],
 "metadata": {
  "kernelspec": {
   "display_name": "Python 3 (ipykernel)",
   "language": "python",
   "name": "python3"
  },
  "language_info": {
   "codemirror_mode": {
    "name": "ipython",
    "version": 3
   },
   "file_extension": ".py",
   "mimetype": "text/x-python",
   "name": "python",
   "nbconvert_exporter": "python",
   "pygments_lexer": "ipython3",
   "version": "3.11.4"
  }
 },
 "nbformat": 4,
 "nbformat_minor": 4
}
