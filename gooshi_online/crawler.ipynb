{
 "cells": [
  {
   "cell_type": "markdown",
   "metadata": {},
   "source": []
  },
  {
   "cell_type": "code",
   "execution_count": null,
   "metadata": {},
   "outputs": [],
   "source": [
    "\n",
    "import pandas as pd\n",
    "import re\n",
    "from selenium import webdriver\n",
    "from selenium.webdriver.common.by import By"
   ]
  },
  {
   "cell_type": "markdown",
   "metadata": {},
   "source": [
    "this block is to import required libraries/packages. \n",
    "note: to be able to use \"append\" method in pandas you need to use the 1.5.3 version of pandas because it was removed from the library in the next updates.\n",
    "i used pandas to manage my DataFrames, regex to organize names to make it more accurate with only wanted data and selenium as my tool to build my own crawler"
   ]
  },
  {
   "cell_type": "code",
   "execution_count": null,
   "metadata": {},
   "outputs": [],
   "source": [
    "def get_phones(name , url):\n",
    "    driver = webdriver.Chrome()\n",
    "    driver.get(url)\n",
    "    df = pd.DataFrame(columns=['phone', 'price'])\n",
    "    while True:\n",
    "        phones = driver.find_elements(By.XPATH, \"\"\"/html/body/main/div/div/div[1]/div[2]/div[3]/div/div\"\"\") \n",
    "\n",
    "        for phone in phones :\n",
    "            \n",
    "            price = (phone.find_element(By.CLASS_NAME,'''store-product-price.store-full-product-price'''))\n",
    "            title =  (phone.find_element(By.TAG_NAME,'''h3'''))\n",
    "            \n",
    "            converted_price = re.sub(r\"[, تومان]\", \"\", price.text)\n",
    "            \n",
    "            converted_title = title.text.replace(\"پرو\", \"pro\")\n",
    "            converted_title = converted_title.replace(\"مکس\", \"max\")\n",
    "            converted_title = re.sub(r'[^\\x00-\\x7F]+', \"\", converted_title)\n",
    "\n",
    "            data = {'phone':converted_title,'price':converted_price}\n",
    "            df = df.append(data, ignore_index=True)\n",
    "            \n",
    "            \n",
    "            driver.implicitly_wait(10)\n",
    "        \n",
    "        try:\n",
    "            next_btn = driver.find_element(By.CSS_SELECTOR, \"\"\"body > main > div > div > div.row > div.col-lg-9.ng-scope > div.store-products.store-full-products > nav > ul > li:nth-child(3) > a > span > i\"\"\")\n",
    "            next_btn.click()\n",
    "        except:\n",
    "            df.to_csv(name +'.csv')\n",
    "            break\n",
    "    driver.close()\n"
   ]
  },
  {
   "cell_type": "markdown",
   "metadata": {},
   "source": [
    "this is the basement of the code. in case you wonder how it works, it scraps the full container of phones, the it loops through every phone and extracts the 2 required parameters of every phone, when it reaches the bottom of the page the crawler looks for the \"next page\" button, and clicks on the button if it exists and does the same pattern. if there were no button, it simply saves the extracted data as csv (via pandas) and goes for new link, same work!"
   ]
  },
  {
   "cell_type": "code",
   "execution_count": null,
   "metadata": {},
   "outputs": [],
   "source": [
    "brands_url = [\n",
    "    ['Samsung','https://gooshi.online/digital/goshi-samsung?available=true&sorting=rate'],\n",
    "    ['Xiaomi','https://gooshi.online/digital/goshi-xiaomi?available=true&sorting=rate'],\n",
    "    ['Apple','https://gooshi.online/digital/goshi-apple?available=true&sorting=rate'],\n",
    "]"
   ]
  },
  {
   "cell_type": "code",
   "execution_count": null,
   "metadata": {},
   "outputs": [],
   "source": [
    "for brand in brands_url :\n",
    "    name = brand[0]\n",
    "    url = brand[1]\n",
    "    get_phones(name , url)\n",
    "\n"
   ]
  },
  {
   "cell_type": "markdown",
   "metadata": {},
   "source": [
    "run this scope to see the magic of selenium!"
   ]
  }
 ],
 "metadata": {
  "kernelspec": {
   "display_name": "Python 3",
   "language": "python",
   "name": "python3"
  },
  "language_info": {
   "codemirror_mode": {
    "name": "ipython",
    "version": 3
   },
   "file_extension": ".py",
   "mimetype": "text/x-python",
   "name": "python",
   "nbconvert_exporter": "python",
   "pygments_lexer": "ipython3",
   "version": "3.10.7"
  },
  "orig_nbformat": 4
 },
 "nbformat": 4,
 "nbformat_minor": 2
}
